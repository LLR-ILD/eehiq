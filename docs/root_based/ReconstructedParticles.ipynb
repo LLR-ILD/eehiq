{
 "cells": [
  {
   "cell_type": "markdown",
   "metadata": {
    "tags": [
     "hide-input"
    ]
   },
   "source": [
    "# Reconstructed particles"
   ]
  },
  {
   "cell_type": "code",
   "execution_count": null,
   "metadata": {
    "tags": [
     "hide-input"
    ]
   },
   "outputs": [],
   "source": [
    "import awkward as ak\n",
    "import matplotlib.pyplot as plt\n",
    "import numpy as np\n",
    "import uproot\n",
    "\n",
    "from lcio_checks.util import config, load_or_make\n",
    "\n",
    "f = uproot.open(f\"{config['data_dir']}/P2f_z_eehiq.root\")[\"MyLCTuple\"]\n",
    "rc = f.arrays(filter_name=\"rc*\", entry_stop=-1)\n",
    "rp = rc[rc.rccid == 101]"
   ]
  },
  {
   "cell_type": "markdown",
   "metadata": {
    "tags": [
     "hide-input"
    ]
   },
   "source": [
    "## RP Collections in the LCTuple\n",
    "\n",
    "The reconstructed particles in the LCTuple `rcXXX` namespace are the combination of multiple LCIO collections.\n",
    "The LCIO collection is tracked in the `rccid` field.\n",
    "\n",
    "| rccid   | LCIO collection         |\n",
    "|:--------|:------------------------|\n",
    "| 101     | PandoraPFOs             |\n",
    "| 102     | BCALParticles           |\n",
    "| 103     | PrimaryVertex_RP        |\n",
    "| 104     | BuildUpVertex_RP        |\n",
    "| 105     | BuildUpVertex_V0_RP     |\n",
    "\n",
    "**Note**: If you want to work with _PFO objects I would observe in my detector_, only use `101` and `102`.\n",
    "\n",
    "Counts in the sample per LCIO collection:"
   ]
  },
  {
   "cell_type": "code",
   "execution_count": null,
   "metadata": {
    "tags": [
     "hide-input"
    ]
   },
   "outputs": [],
   "source": [
    "assert {101, 102, 103, 104, 105}.issuperset(np.unique(ak.flatten(rc.rccid)))\n",
    "\n",
    "for cid, counts in zip(*np.unique(ak.flatten(rc.rccid), return_counts=True)):\n",
    "    print(f\"{cid}:{counts:>7d}\")\n",
    "print(f\"\\nNumber of events in the sample: {len(rc)}.\")"
   ]
  },
  {
   "cell_type": "markdown",
   "metadata": {
    "tags": [
     "hide-input"
    ]
   },
   "source": [
    "### Vertex collections\n",
    "\n",
    "For now, we do not plan to study them further.\n",
    "Let us only mention that all particles in these collection have their type defined as `3`."
   ]
  },
  {
   "cell_type": "code",
   "execution_count": null,
   "metadata": {
    "tags": [
     "hide-input"
    ]
   },
   "outputs": [],
   "source": [
    "assert list(np.unique(ak.flatten(rc[rc.rccid > 102].rctyp).to_numpy())) == [3]"
   ]
  },
  {
   "cell_type": "markdown",
   "metadata": {
    "tags": [
     "hide-input"
    ]
   },
   "source": [
    "### Particle types in PandoraPFOs"
   ]
  },
  {
   "cell_type": "code",
   "execution_count": null,
   "metadata": {
    "tags": [
     "hide-input"
    ]
   },
   "outputs": [],
   "source": [
    "assert 102 not in np.unique(ak.flatten(rc.rccid))\n",
    "\n",
    "import pandas as pd\n",
    "\n",
    "uniq, counts = np.unique(\n",
    "    np.abs(ak.flatten(rc[rc.rccid == 101].rctyp)), return_counts=True\n",
    ")\n",
    "df = pd.DataFrame(counts, index=uniq, columns=[\"counts\"])\n",
    "df.index.name = \"Particle species\"\n",
    "df"
   ]
  },
  {
   "cell_type": "markdown",
   "metadata": {
    "tags": [
     "hide-input"
    ]
   },
   "source": [
    "## A closer look into the Pandora PFOs"
   ]
  },
  {
   "cell_type": "code",
   "execution_count": null,
   "metadata": {
    "render": {
     "image": {
      "width": "73%"
     }
    },
    "tags": [
     "hide-input"
    ]
   },
   "outputs": [],
   "source": [
    "@load_or_make([\"pfo_energy_per_event\"])\n",
    "def pfo_energy_per_event():\n",
    "    bins = np.arange(0, 501, 3)\n",
    "    fig, ax = plt.subplots(figsize=(4, 4))\n",
    "    ax.hist(ak.sum(rp.rcene, axis=1), bins=bins)\n",
    "    ax.set_title(\"energy per event in PFOs\")\n",
    "    return (fig,)\n",
    "\n",
    "\n",
    "@load_or_make([\"pfo_energy_per_event_after_acceptance\"])\n",
    "def pfo_energy_per_event_after_acceptance():\n",
    "    rcps = rp[rp.rcene != 0]\n",
    "    bins = np.arange(0, 321, 3)\n",
    "    fig, axs = plt.subplots(ncols=2, figsize=(10, 4))\n",
    "    for cos_theta in [1.01, 0.999999, 0.99999, 0.9999, 0.999, 0.99, 0.9]:\n",
    "        x = ak.sum(rcps[np.abs(rcps.rcmoz) / rcps.rcene < cos_theta].rcene, axis=1)\n",
    "        axs[0].hist(x, bins=bins[10:], label=str(cos_theta), alpha=0.7)\n",
    "        axs[1].hist(x, bins=bins, label=str(cos_theta), alpha=0.7)\n",
    "        axs[1].legend(title=\"Per particle |cos$\\\\theta$|$\\\\leq$\", ncol=2)\n",
    "        axs[1].set_yscale(\"log\")\n",
    "    fig.suptitle(\"energy per event in PFOs after angular acceptance cut\")\n",
    "    return (fig,)\n",
    "\n",
    "\n",
    "pfo_energy_per_event()\n",
    "pfo_energy_per_event_after_acceptance();"
   ]
  },
  {
   "cell_type": "markdown",
   "metadata": {
    "tags": [
     "hide-input"
    ]
   },
   "source": [
    "### Angular acceptance"
   ]
  },
  {
   "cell_type": "code",
   "execution_count": null,
   "metadata": {
    "tags": [
     "hide-input"
    ]
   },
   "outputs": [],
   "source": [
    "def particles_per_angle(rcps, bins):\n",
    "    _, ax = plt.subplots(figsize=(6, 4))\n",
    "    c_theta = np.abs(rcps.rcmoz) / rcps.rcene\n",
    "    ax.hist(ak.flatten(c_theta), bins=bins, label=\"all\")\n",
    "    ax.hist(ak.flatten(c_theta[np.abs(rcps.rctyp) == 11]), bins=bins, label=r\"$e^\\pm$\")\n",
    "    ax.set_title(\"PFOs per angle\")\n",
    "    ax.set_xlabel(\"|cos$\\\\theta$|\")\n",
    "    ax.set_yscale(\"log\")\n",
    "    ax.legend()\n",
    "    return ax\n",
    "\n",
    "\n",
    "particles_per_angle(rp, bins=np.linspace(0, 1, 100))\n",
    "particles_per_angle(rp, bins=np.linspace(0.99, 1, 100));"
   ]
  },
  {
   "cell_type": "code",
   "execution_count": null,
   "metadata": {
    "tags": [
     "hide-input"
    ]
   },
   "outputs": [],
   "source": []
  }
 ],
 "metadata": {
  "celltoolbar": "Tags",
  "kernelspec": {
   "display_name": "Python (eehiq)",
   "language": "python",
   "name": "eehiq"
  },
  "language_info": {
   "codemirror_mode": {
    "name": "ipython",
    "version": 3
   },
   "file_extension": ".py",
   "mimetype": "text/x-python",
   "name": "python",
   "nbconvert_exporter": "python",
   "pygments_lexer": "ipython3",
   "version": "3.10.0"
  }
 },
 "nbformat": 4,
 "nbformat_minor": 4
}
