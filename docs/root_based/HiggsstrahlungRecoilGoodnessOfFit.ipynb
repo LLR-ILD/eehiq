{
 "cells": [
  {
   "cell_type": "markdown",
   "metadata": {
    "tags": [
     "hide-input"
    ]
   },
   "source": [
    "(HiggsstrahlungRecooilGoodnessOfFit)=\n",
    "# Events that fake the Higgsstrahlung signal"
   ]
  },
  {
   "cell_type": "code",
   "execution_count": null,
   "metadata": {
    "tags": [
     "hide-input"
    ]
   },
   "outputs": [],
   "source": [
    "import awkward as ak\n",
    "import matplotlib.pyplot as plt\n",
    "import numpy as np\n",
    "import uproot\n",
    "\n",
    "from lcio_checks.mc.simulation import add_simulation_info\n",
    "from lcio_checks.rp.split_off_z import HiggsLike\n",
    "from lcio_checks.util import config\n",
    "from lcio_checks.util import load_or_make\n",
    "\n",
    "\n",
    "def masses_heatmap(m_pair, m_recoil, bins=20, bin_range=[[0, 300], [0, 300]], ax=None):\n",
    "    if ax is None:\n",
    "        _, ax = plt.subplots(figsize=(5, 5))\n",
    "    ax.hist2d(m_pair, m_recoil, range=bin_range, bins=bins)\n",
    "    ax.set_xlabel(\"pair mass [GeV]\")\n",
    "    ax.set_ylabel(\"recoil mass [GeV]\")\n",
    "    return ax\n",
    "\n",
    "\n",
    "def chi2_fct(z, h):\n",
    "    return (z - 91) ** 2 / 10**2 + (h - 125) ** 2 / (\n",
    "        5**2 * (h < 125) + 20**2 * (h > 125)\n",
    "    )\n",
    "\n",
    "\n",
    "f = uproot.open(f\"{config['data_dir']}/P2f_z_eehiq.root\")[\"MyLCTuple\"]\n",
    "rc = f.arrays(filter_name=\"rc*\")\n",
    "\n",
    "higgs_like = HiggsLike(rc)\n",
    "has_pair = higgs_like.has_pair\n",
    "higgs_like.apply_chi2(chi2_fct)\n",
    "f_reco = 100 * ak.sum(has_pair) / len(has_pair)\n",
    "print(f\"Fraction of events with e+e- pair reconstructed: {f_reco:.1f}%.\")"
   ]
  },
  {
   "cell_type": "code",
   "execution_count": null,
   "metadata": {
    "render": {
     "image": {
      "width": "100%"
     }
    },
    "tags": [
     "hide-input"
    ]
   },
   "outputs": [],
   "source": [
    "def mass_pair_vs_recoil_all_pairs(higgs_like, ax=None):\n",
    "    m_pair = ak.flatten(higgs_like.m_pair_all)\n",
    "    m_recoil = ak.flatten(higgs_like.m_recoil_all)\n",
    "    ax = masses_heatmap(m_pair, m_recoil, ax=ax)\n",
    "    ax.set_title(f\"All possible pairs: {len(m_pair)}\")\n",
    "    return (ax.get_figure(),)\n",
    "\n",
    "\n",
    "def mass_pair_vs_recoil_best_pair(higgs_like, ax=None):\n",
    "    best_chi2 = ak.argmin(higgs_like.chi2, keepdims=True, axis=1)\n",
    "    m_pair = ak.flatten(higgs_like.m_pair_all[best_chi2][has_pair])\n",
    "    m_recoil = ak.flatten(higgs_like.m_recoil_all[best_chi2][has_pair])\n",
    "    ax = masses_heatmap(m_pair, m_recoil, ax=ax)\n",
    "    ax.set_title(f\"Best pair per event (if any): {len(m_pair)}\")\n",
    "    return (ax.get_figure(),)\n",
    "\n",
    "\n",
    "@load_or_make([\"mass_pair_vs_recoil\"])\n",
    "def mass_pair_vs_recoil(higgs_like):\n",
    "    fig, axs = plt.subplots(figsize=(10, 5), ncols=2, sharex=True, sharey=True)\n",
    "    mass_pair_vs_recoil_all_pairs(higgs_like, axs[0])\n",
    "    mass_pair_vs_recoil_best_pair(higgs_like, axs[1])\n",
    "    return (fig,)\n",
    "\n",
    "\n",
    "mass_pair_vs_recoil(higgs_like);"
   ]
  },
  {
   "cell_type": "code",
   "execution_count": null,
   "metadata": {
    "render": {
     "image": {
      "width": "100%"
     }
    },
    "tags": [
     "hide-input"
    ]
   },
   "outputs": [],
   "source": [
    "def chi2_distribution(higgs_like, chi2_cutoff, worst_presel, ax=None):\n",
    "    if ax is None:\n",
    "        fig, ax = plt.subplots()\n",
    "    bins = np.linspace(0, chi2_cutoff, 100)\n",
    "    chi2 = ak.flatten(higgs_like.chi2)\n",
    "    best_chi2 = ak.min(higgs_like.chi2, axis=1)[ak.num(higgs_like.chi2) > 0].to_numpy()\n",
    "    ax.hist(chi2, bins=bins, label=rf\"all $\\chi^2$ ({ak.sum(chi2 > chi2_cutoff)})\")\n",
    "    ax.hist(\n",
    "        best_chi2,\n",
    "        bins=bins,\n",
    "        label=rf\"best $\\chi^2$ per event ({ak.sum(best_chi2 > chi2_cutoff)})\",\n",
    "    )\n",
    "    ax.axvline(\n",
    "        worst_presel,\n",
    "        label=f\"worst $\\\\chi^2$ that would\\npass the preselection: {worst_presel:.1f}\",\n",
    "        color=\"black\",\n",
    "    )\n",
    "    ax.set_title(\"Usually there is a clear best candidate\")\n",
    "    ax.set_xlabel(r\"$\\chi^2$ (Higgsstrahlung-likeness)\")\n",
    "    ax.legend(title=\"type (# overflow)\")\n",
    "    return ax\n",
    "\n",
    "\n",
    "@load_or_make([\"chi2_with_zoom\"])\n",
    "def chi2_with_zoom(higgs_like):\n",
    "    worst_presel = max(\n",
    "        chi2_fct(np.tile([91 - 10, 91 + 10], 2), np.repeat([125 - 5, 125 + 20], 2))\n",
    "    )\n",
    "    long_range = np.percentile(ak.flatten(higgs_like.chi2), 99.9) * 1.05\n",
    "    cutoffs = [long_range, 1.5 * worst_presel]\n",
    "    fig, axs = plt.subplots(figsize=(14, 5), ncols=len(cutoffs))\n",
    "    axs = axs.flatten()\n",
    "    for i, chi2_cutoff in enumerate(cutoffs):\n",
    "        chi2_distribution(higgs_like, chi2_cutoff, worst_presel, ax=axs[i])\n",
    "    return (fig,)\n",
    "\n",
    "\n",
    "chi2_with_zoom(higgs_like);"
   ]
  },
  {
   "cell_type": "code",
   "execution_count": null,
   "metadata": {
    "render": {
     "image": {
      "width": "100%"
     }
    },
    "tags": [
     "hide-input"
    ]
   },
   "outputs": [],
   "source": [
    "@load_or_make([\"masses_heatmap_increase_chi2\"])\n",
    "def masses_heatmap_increase_chi2(higgs_like):\n",
    "    id_best_chi2 = ak.argmin(higgs_like.chi2, keepdims=True, axis=1)\n",
    "    m_pair = ak.flatten(higgs_like.m_pair_all[id_best_chi2][has_pair])\n",
    "    m_recoil = ak.flatten(higgs_like.m_recoil_all[id_best_chi2][has_pair])\n",
    "    best_chi2 = ak.flatten(higgs_like.chi2[id_best_chi2][has_pair])\n",
    "\n",
    "    thresholds = [0.1, 1, 2, 4, 6, 10, 100, 1000, 10000][::-1]\n",
    "    nrows = (len(thresholds) + 1) // 3\n",
    "    fig, axs = plt.subplots(ncols=3, nrows=nrows, figsize=(12, 4 * nrows))\n",
    "    for chi2_threshold, ax in zip(thresholds, axs.flatten()):\n",
    "        mask = best_chi2 < chi2_threshold\n",
    "        ax = masses_heatmap(\n",
    "            m_pair[mask],\n",
    "            m_recoil[mask],\n",
    "            ax=ax,\n",
    "            bin_range=[[50, 130], [90, 160]],\n",
    "            bins=40,\n",
    "        )\n",
    "        ax.set_title(\n",
    "            rf\"$\\chi^2$ threshold: {chi2_threshold}, events below: {sum(mask)}\"\n",
    "        )\n",
    "    fig.tight_layout()\n",
    "    return (fig,)\n",
    "\n",
    "\n",
    "masses_heatmap_increase_chi2(higgs_like);"
   ]
  },
  {
   "cell_type": "markdown",
   "metadata": {
    "tags": [
     "hide-input"
    ]
   },
   "source": [
    "## Why can a Bhabha fake a Higgststrahlung event?\n",
    "\n",
    "In the long tails, there will be some electrons/positrons that are drastically different from the kinematic state that is assumed in the recoil mass calculation: \n",
    "$(P_{e^+_{in}} + P_{e^-_{in}})^2 = (s, 0, 0, 0)$."
   ]
  },
  {
   "cell_type": "code",
   "execution_count": null,
   "metadata": {
    "render": {
     "image": {
      "width": "100%"
     }
    },
    "tags": [
     "hide-input"
    ]
   },
   "outputs": [],
   "source": [
    "@load_or_make([\"bhabha_angle_e_pm_mc\"])\n",
    "def bhabha_angle_e_pm_mc(f):\n",
    "    mc = f.arrays(filter_name=\"mc*\", entry_stop=-1)\n",
    "    add_simulation_info(mc)\n",
    "    mem = mc[(mc.mcgst == 3) & ~mc.isOverlay]\n",
    "    fig, ax = plt.subplots()\n",
    "    plt.hist(\n",
    "        (mem.mcmoz / mem.mcene)[mem.mcpdg == 11],\n",
    "        bins=np.linspace(-1, 1, 100),\n",
    "        alpha=0.8,\n",
    "        label=\"e-\",\n",
    "    )\n",
    "    plt.hist(\n",
    "        (mem.mcmoz / mem.mcene)[mem.mcpdg == -11],\n",
    "        bins=np.linspace(-1, 1, 100),\n",
    "        alpha=0.8,\n",
    "        label=\"e+\",\n",
    "    )\n",
    "    plt.yscale(\"log\")\n",
    "    plt.legend()\n",
    "    plt.xlabel(\"cos$\\\\theta$ for $e^\\\\pm$\")\n",
    "    return (fig,)\n",
    "\n",
    "\n",
    "bhabha_angle_e_pm_mc(f);"
   ]
  },
  {
   "cell_type": "code",
   "execution_count": null,
   "metadata": {
    "tags": [
     "hide-input"
    ]
   },
   "outputs": [],
   "source": []
  }
 ],
 "metadata": {
  "kernelspec": {
   "display_name": "Python (eehiq)",
   "language": "python",
   "name": "eehiq"
  },
  "language_info": {
   "codemirror_mode": {
    "name": "ipython",
    "version": 3
   },
   "file_extension": ".py",
   "mimetype": "text/x-python",
   "name": "python",
   "nbconvert_exporter": "python",
   "pygments_lexer": "ipython3",
   "version": "3.10.0"
  }
 },
 "nbformat": 4,
 "nbformat_minor": 4
}
