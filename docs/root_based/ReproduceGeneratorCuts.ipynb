{
 "cells": [
  {
   "cell_type": "markdown",
   "metadata": {
    "tags": [
     "hide-input"
    ]
   },
   "source": [
    "# Reproduce the cuts on generator level\n",
    "\n",
    "The bhabha (`2f_z_eehiq`) sample would have been unmanagably large with the standard ILD production cuts.\n",
    "This higher cut point is indicated by the `hiq` suffix.\n",
    "\n",
    "Here we look at the propagation of these cuts into quantities that can be constructed from the `dst_merged.slcio` files."
   ]
  },
  {
   "cell_type": "code",
   "execution_count": null,
   "metadata": {
    "tags": [
     "hide-input"
    ]
   },
   "outputs": [],
   "source": [
    "import awkward as ak\n",
    "import matplotlib.pyplot as plt\n",
    "import numpy as np\n",
    "import uproot\n",
    "\n",
    "from lcio_checks.mc.simulation import add_simulation_info\n",
    "from lcio_checks.util import config\n",
    "from lcio_checks.util import load_or_make\n",
    "\n",
    "f = uproot.open(f\"{config['data_dir']}/P2f_z_eehiq.root\")[\"MyLCTuple\"]\n",
    "mc = f.arrays(filter_name=\"mc*\", entry_stop=-1)\n",
    "mc = add_simulation_info(mc)"
   ]
  },
  {
   "cell_type": "markdown",
   "metadata": {
    "tags": [
     "hide-input"
    ]
   },
   "source": [
    "## Effect of generator level cuts on the Monte Carlo collections\n",
    "\n",
    "Note: Due to beam overlay, there can be additional electrons and positrons in the detector/event."
   ]
  },
  {
   "cell_type": "code",
   "execution_count": null,
   "metadata": {
    "tags": [
     "hide-input"
    ]
   },
   "outputs": [],
   "source": [
    "el_in = mc[(mc.mcgst == 3) & (mc.mcpdg == 11)]\n",
    "po_in = mc[(mc.mcgst == 3) & (mc.mcpdg == -11)]\n",
    "el_out = mc[(mc.mcgst == 2) & (mc.mcpdg == 11)]\n",
    "po_out = mc[(mc.mcgst == 2) & (mc.mcpdg == -11)]\n",
    "\n",
    "\n",
    "def inv_mass_in_out_squared(p1, p2, t_channel=False):\n",
    "    if t_channel:\n",
    "        return (\n",
    "            (p1.mcene - p2.mcene) ** 2\n",
    "            - (p1.mcmox - p2.mcmox) ** 2\n",
    "            - (p1.mcmoy - p2.mcmoy) ** 2\n",
    "            - (p1.mcmoz - p2.mcmoz) ** 2\n",
    "        )\n",
    "    else:\n",
    "        return (\n",
    "            (p1.mcene + p2.mcene) ** 2\n",
    "            - (p1.mcmox + p2.mcmox) ** 2\n",
    "            - (p1.mcmoy + p2.mcmoy) ** 2\n",
    "            - (p1.mcmoz + p2.mcmoz) ** 2\n",
    "        )\n",
    "\n",
    "\n",
    "ids_in_out = ak.argcartesian([el_out.mcpdg, el_in.mcpdg])\n",
    "m_inv_in_out_squared = inv_mass_in_out_squared(\n",
    "    el_out[ids_in_out.slot0], el_in[ids_in_out.slot1], t_channel=True\n",
    ")\n",
    "ids_ep = ak.argcartesian([el_out.mcpdg, po_out.mcpdg])\n",
    "m_inv_ep = np.sqrt(\n",
    "    inv_mass_in_out_squared(el_out[ids_ep.slot0], po_out[ids_ep.slot1], t_channel=False)\n",
    ")"
   ]
  },
  {
   "cell_type": "code",
   "execution_count": null,
   "metadata": {
    "render": {
     "image": {
      "width": "49%"
     }
    },
    "tags": [
     "hide-input"
    ]
   },
   "outputs": [],
   "source": [
    "@load_or_make([\"t_channel_virtuality_all.png\"])\n",
    "def t_channel_virtuality_all():\n",
    "    fig, ax = plt.subplots(figsize=(5, 4))\n",
    "    kw = dict(bins=np.linspace(-1000, 0, 1000), alpha=0.6)\n",
    "    ax.hist(\n",
    "        ak.min(m_inv_in_out_squared, axis=1),\n",
    "        label=r\"Best $e^-_\\mathrm{out}}$ per event\",\n",
    "        **kw,\n",
    "    )\n",
    "    ax.hist(\n",
    "        ak.max(m_inv_in_out_squared, axis=1),\n",
    "        label=r\"Worst $e^-_\\mathrm{out}}$ per event\",\n",
    "        **kw,\n",
    "    )\n",
    "    ax.hist(ak.flatten(m_inv_in_out_squared), label=r\"All $e^-_\\mathrm{out}}$\", **kw)\n",
    "    ax.set_xlabel(\n",
    "        r\"virtuality of t-channel photon: $(M_\\mathrm{inv}^{e^-_\\mathrm{in}, e^-_\\mathrm{out}})^2$\",\n",
    "        fontsize=13,\n",
    "    )\n",
    "    ax.axvline(-100, color=\"black\", label=\"-(10 GeV)$^2$\")\n",
    "    ax.set_yscale(\"log\")\n",
    "    ax.legend()\n",
    "    fig.tight_layout()\n",
    "    return (fig,)\n",
    "\n",
    "\n",
    "fig = t_channel_virtuality_all()"
   ]
  },
  {
   "cell_type": "code",
   "execution_count": null,
   "metadata": {
    "render": {
     "image": {
      "width": "49%"
     }
    },
    "tags": [
     "hide-input"
    ]
   },
   "outputs": [],
   "source": [
    "@load_or_make([\"t_channel_virtuality.png\"])\n",
    "def t_channel_virtuality():\n",
    "    fig, ax = plt.subplots(figsize=(5, 4))\n",
    "    ax.hist(\n",
    "        ak.min(m_inv_in_out_squared, axis=1),\n",
    "        bins=np.linspace(-1000, 0, 1000),\n",
    "        label=r\"Best $e^-_\\mathrm{out}}$ per event\",\n",
    "    )\n",
    "    ax.set_xlabel(\n",
    "        r\"virtuality of t-channel photon: $(M_\\mathrm{inv}^{e^-_\\mathrm{in}, e^-_\\mathrm{out}})^2$\",\n",
    "        fontsize=13,\n",
    "    )\n",
    "    ax.axvline(-100, color=\"black\", label=\"-(10 GeV)$^2$\")\n",
    "    ax.legend()\n",
    "    fig.tight_layout()\n",
    "    return (fig,)\n",
    "\n",
    "\n",
    "fig = t_channel_virtuality()"
   ]
  },
  {
   "cell_type": "code",
   "execution_count": null,
   "metadata": {
    "render": {
     "image": {
      "width": "49%"
     }
    },
    "tags": [
     "hide-input"
    ]
   },
   "outputs": [],
   "source": [
    "@load_or_make([\"invariant_mass_simulation_all.png\"])\n",
    "def invariant_mass_simulation_all():\n",
    "    fig, ax = plt.subplots(figsize=(5, 4))\n",
    "    kw = dict(bins=np.linspace(0, 250, 1000), alpha=0.6)\n",
    "    ax.hist(ak.min(m_inv_ep, axis=1), label=\"Best pair per event\", **kw)\n",
    "    ax.hist(ak.max(m_inv_ep, axis=1), label=\"Worst pair per event\", **kw)\n",
    "    ax.hist(ak.flatten(m_inv_ep), label=\"All pairs\", **kw)\n",
    "    ax.set_xlabel(\n",
    "        r\"Invariant mass after simulation: $M_\\mathrm{inv}^{e^-_\\mathrm{out}, e^+_\\mathrm{out}}$\",\n",
    "        fontsize=13,\n",
    "    )\n",
    "    ax.axvline(200, color=\"black\", label=\"200 GeV\")\n",
    "    ax.set_yscale(\"log\")\n",
    "    ax.legend()\n",
    "    fig.tight_layout()\n",
    "    return (fig,)\n",
    "\n",
    "\n",
    "fig = invariant_mass_simulation_all()"
   ]
  },
  {
   "cell_type": "code",
   "execution_count": null,
   "metadata": {
    "render": {
     "image": {
      "width": "49%"
     }
    },
    "tags": [
     "hide-input"
    ]
   },
   "outputs": [],
   "source": [
    "@load_or_make([\"invariant_mass_simulation.png\"])\n",
    "def invariant_mass_simulation():\n",
    "    fig, ax = plt.subplots(figsize=(5, 4))\n",
    "    ax.hist(ak.min(m_inv_ep, axis=1), bins=np.linspace(0, 250, 1000))\n",
    "    ax.set_xlabel(\n",
    "        r\"Invariant mass after simulation: $M_\\mathrm{inv}^{e^-_\\mathrm{out}, e^-_\\mathrm{out}}$\",\n",
    "        fontsize=13,\n",
    "    )\n",
    "    ax.axvline(200, color=\"black\", label=\"200 GeV\")\n",
    "    ax.set_yscale(\"log\")\n",
    "    ax.legend()\n",
    "    fig.tight_layout()\n",
    "    return (fig,)\n",
    "\n",
    "\n",
    "fig = invariant_mass_simulation()"
   ]
  },
  {
   "cell_type": "markdown",
   "metadata": {
    "tags": [
     "hide-input"
    ]
   },
   "source": [
    "## Consequences of these cuts: cos𝜃 spectrum"
   ]
  },
  {
   "cell_type": "code",
   "execution_count": null,
   "metadata": {
    "render": {
     "image": {
      "width": "49%"
     }
    },
    "tags": [
     "hide-input"
    ]
   },
   "outputs": [],
   "source": [
    "@load_or_make([\"cos_theta_spectrum_simulation.png\"])\n",
    "def cos_theta_spectrum_simulation():\n",
    "    kw = dict(bins=np.linspace(0.99, 1, 100), histtype=\"step\")\n",
    "    fig, ax = plt.subplots(figsize=(5, 4))\n",
    "    for p1, p2, label, reducer in [\n",
    "        (el_in, po_in, r\"all $e^\\pm_\\mathrm{in}$\", lambda x: ak.flatten(x)),\n",
    "        (el_out, po_out, r\"all $e^\\pm_\\mathrm{out}$\", lambda x: ak.flatten(x)),\n",
    "        (\n",
    "            el_out,\n",
    "            po_out,\n",
    "            r\"'best' $e^+_\\mathrm{out}$, $e^-_\\mathrm{out}$\",\n",
    "            lambda x: ak.min(x, axis=1),\n",
    "        ),\n",
    "        (\n",
    "            el_out[~el_out.isOverlay],\n",
    "            po_out[~po_out.isOverlay],\n",
    "            r\"overlay free $e^\\pm_\\mathrm{out}$\",\n",
    "            lambda x: ak.flatten(x),\n",
    "        ),\n",
    "    ]:\n",
    "        x = np.concatenate(\n",
    "            [reducer(np.abs(p1.mcmoz) / p1.mcene), reducer(np.abs(p2.mcmoz) / p2.mcene)]\n",
    "        )\n",
    "        ax.hist(x, label=label, **kw)\n",
    "    ax.legend(loc=\"upper left\")\n",
    "    ax.set_yscale(\"log\")\n",
    "    ax.set_xlabel(\"|cos$\\\\theta$|\")\n",
    "    return (fig,)\n",
    "\n",
    "\n",
    "fig = cos_theta_spectrum_simulation()"
   ]
  },
  {
   "cell_type": "code",
   "execution_count": null,
   "metadata": {
    "tags": [
     "hide-input"
    ]
   },
   "outputs": [],
   "source": []
  }
 ],
 "metadata": {
  "kernelspec": {
   "display_name": "Python (eehiq)",
   "language": "python",
   "name": "eehiq"
  },
  "language_info": {
   "codemirror_mode": {
    "name": "ipython",
    "version": 3
   },
   "file_extension": ".py",
   "mimetype": "text/x-python",
   "name": "python",
   "nbconvert_exporter": "python",
   "pygments_lexer": "ipython3",
   "version": "3.10.0"
  }
 },
 "nbformat": 4,
 "nbformat_minor": 4
}
