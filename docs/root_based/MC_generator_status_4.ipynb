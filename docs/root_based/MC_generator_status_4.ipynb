{
 "cells": [
  {
   "cell_type": "markdown",
   "metadata": {
    "tags": [
     "hide-input"
    ]
   },
   "source": [
    "# The generator status 4"
   ]
  },
  {
   "cell_type": "code",
   "execution_count": null,
   "metadata": {
    "tags": [
     "hide-input"
    ]
   },
   "outputs": [],
   "source": [
    "import awkward as ak\n",
    "import matplotlib.pyplot as plt\n",
    "import numpy as np\n",
    "import uproot\n",
    "\n",
    "from lcio_checks.mc.simulation import add_simulation_info\n",
    "from lcio_checks.util import config, load_or_make\n",
    "\n",
    "\n",
    "f = uproot.open(f\"{config['data_dir']}/P2f_z_eehiq.root\")[\"MyLCTuple\"]\n",
    "mc = f.arrays(filter_name=\"mc*\", entry_stop=-1)\n",
    "add_simulation_info(mc)\n",
    "\n",
    "x1 = mc[mc.mcgst == 4]\n",
    "x2 = mc[(mc.mcgst == 3) & (mc.mcsst == -2147483648)]\n",
    "assert all(ak.num(x1.mcori) == ak.num(x2.mcori))"
   ]
  },
  {
   "cell_type": "markdown",
   "metadata": {
    "tags": [
     "hide-input"
    ]
   },
   "source": [
    "Amongst those particles with generator status, some are created from overlay (files). They can be identifed by their simulation status `-2147483648`. The same particles are once again part of the Monte Carlo collection with generator status 4.\n",
    "Here, we want to compair these two \"copies\" of the particle.\n",
    "Additionally, we want to these what effect these particles have amongst those with generator status 3."
   ]
  },
  {
   "cell_type": "code",
   "execution_count": null,
   "metadata": {
    "render": {
     "image": {
      "width": "91%"
     }
    },
    "tags": [
     "hide-input"
    ]
   },
   "outputs": [],
   "source": [
    "def pair_mass(x):\n",
    "    return np.sqrt(\n",
    "        ak.sum(x.mcene, axis=1) ** 2\n",
    "        - ak.sum(x.mcmox, axis=1) ** 2\n",
    "        - ak.sum(x.mcmoy, axis=1) ** 2\n",
    "        - ak.sum(x.mcmoz, axis=1) ** 2\n",
    "    )\n",
    "\n",
    "\n",
    "def pair_recoil(x):\n",
    "    var = (\n",
    "        (250 - ak.sum(x.mcene, axis=1)) ** 2\n",
    "        - ak.sum(x.mcmox, axis=1) ** 2\n",
    "        - ak.sum(x.mcmoy, axis=1) ** 2\n",
    "        - ak.sum(x.mcmoz, axis=1) ** 2\n",
    "    )\n",
    "    return np.sqrt(np.abs(var)) * (var > 0)\n",
    "\n",
    "\n",
    "@load_or_make([\"mc_recoil_mass\"])\n",
    "def mc_recoil_mass():\n",
    "    assert len(np.unique(pair_recoil(x1))) == 1\n",
    "    fig, ax = plt.subplots(figsize=(5, 4))\n",
    "    ax.axvline(pair_recoil(x1)[0], color=\"black\")\n",
    "    bins = ax.hist(\n",
    "        pair_recoil(mc[(mc.mcgst == 3)]),\n",
    "        bins=100,\n",
    "        label=\"with overlay\",\n",
    "        alpha=0.8,\n",
    "    )[1]\n",
    "    ax.hist(\n",
    "        pair_recoil(x2),\n",
    "        bins=bins,\n",
    "        label=\"without overlay\",\n",
    "        alpha=0.8,\n",
    "    )\n",
    "    ax.hist(\n",
    "        pair_recoil(mc[(mc.mcgst == 3) & (mc.mcsst != -2147483648)]),\n",
    "        bins=bins,\n",
    "        label=\"only overlay\",\n",
    "        alpha=0.8,\n",
    "    )\n",
    "    ax.legend()\n",
    "    ax.set_xlabel(\"M [GeV]\")\n",
    "    ax.set_yscale(\"log\")\n",
    "    ax.set_title(\"Recoil mass of all GeneratorStatus==3 particles\")\n",
    "    return (fig,)\n",
    "\n",
    "\n",
    "@load_or_make([\"mc_pair_mass\"])\n",
    "def mc_pair_mass():\n",
    "    assert len(np.unique(pair_mass(x1))) == 1\n",
    "    fig, ax = plt.subplots(figsize=(5, 4))\n",
    "    ax.axvline(pair_mass(x1)[0], color=\"black\")\n",
    "    bins = ax.hist(\n",
    "        pair_mass(mc[(mc.mcgst == 3)]),\n",
    "        bins=100,\n",
    "        label=\"with overlay\",\n",
    "        alpha=0.8,\n",
    "    )[1]\n",
    "    ax.hist(\n",
    "        pair_mass(x2),\n",
    "        bins=bins,\n",
    "        label=\"without overlay\",\n",
    "        alpha=0.8,\n",
    "    )\n",
    "    ax.hist(\n",
    "        pair_mass(mc[(mc.mcgst == 3) & (mc.mcsst != -2147483648)]),\n",
    "        bins=bins,\n",
    "        label=\"only overlay\",\n",
    "        alpha=0.8,\n",
    "    )\n",
    "    ax.legend()\n",
    "    ax.set_xlabel(\"M [GeV]\")\n",
    "    ax.set_title(\"Mass of all GeneratorStatus==3 particles\")\n",
    "    return (fig,)\n",
    "\n",
    "\n",
    "mc_recoil_mass()\n",
    "mc_pair_mass();"
   ]
  },
  {
   "cell_type": "markdown",
   "metadata": {
    "tags": [
     "hide-input"
    ]
   },
   "source": [
    "## Comparing the copies\n",
    "\n",
    "First, let's look into which fields are equal or different between the two instances of a particle."
   ]
  },
  {
   "cell_type": "code",
   "execution_count": null,
   "metadata": {
    "tags": [
     "hide-input"
    ]
   },
   "outputs": [],
   "source": [
    "assert all(ak.num(x1.mcori) == ak.num(x2.mcori))\n",
    "all_equal = []\n",
    "not_all_equal = []\n",
    "for f in x1.fields:\n",
    "    if all(ak.flatten(x1[f] == x2[f])):\n",
    "        all_equal.append(f)\n",
    "    else:\n",
    "        not_all_equal.append(f)\n",
    "\n",
    "print(\"Fields where all values are equal:\")\n",
    "print(f\"  {', '.join(all_equal)}\")\n",
    "print(\"\\nFields with differences:\")\n",
    "print(f\"  {', '.join(not_all_equal)}\")"
   ]
  },
  {
   "cell_type": "code",
   "execution_count": null,
   "metadata": {
    "render": {
     "image": {
      "width": "73%"
     }
    },
    "tags": [
     "hide-input"
    ]
   },
   "outputs": [],
   "source": [
    "def show_smearing(var, bins=None):\n",
    "    fig, ax = plt.subplots(figsize=(4, 4))\n",
    "    c_0 = ak.flatten(getattr(x1, var) - getattr(x2, var))\n",
    "    c_x = ak.flatten(getattr(mc, var))\n",
    "    if bins is None:\n",
    "        bins = np.linspace(\n",
    "            min(ak.min(c_0), ak.min(c_x)),\n",
    "            max(ak.max(c_0), ak.max(c_x)),\n",
    "            100,\n",
    "        )\n",
    "    kw = dict(bins=bins, alpha=0.8)\n",
    "    ax.hist(c_0, label=\"smearing\", **kw)[1]\n",
    "    ax.hist(ak.flatten(getattr(x2, var)), label=\"new\", **kw)\n",
    "    ax.hist(\n",
    "        ak.flatten(getattr(mc, var)[(mc.mcgst == 3) & (mc.mcsst != -2147483648)]),\n",
    "        label=\"overlay\",\n",
    "        **kw,\n",
    "    )\n",
    "    ax.hist(ak.flatten(getattr(x1, var)), label=\"original\", **kw)\n",
    "    ax.set_yscale(\"log\")\n",
    "    ax.legend()\n",
    "    ax.set_xlabel(var)\n",
    "    ax.set_title(var)\n",
    "    return (fig,)\n",
    "\n",
    "\n",
    "@load_or_make([\"show_smearing_mcmox\"])\n",
    "def show_smearing_mcmox():\n",
    "    return show_smearing(\"mcmox\")\n",
    "\n",
    "\n",
    "show_smearing_mcmox()\n",
    "\n",
    "\n",
    "@load_or_make([\"show_smearing_mcmoy\"])\n",
    "def show_smearing_mcmoy():\n",
    "    return show_smearing(\"mcmoy\")\n",
    "\n",
    "\n",
    "show_smearing_mcmoy()\n",
    "\n",
    "\n",
    "@load_or_make([\"show_smearing_mcmoz\"])\n",
    "def show_smearing_mcmoz():\n",
    "    return show_smearing(\"mcmoz\")\n",
    "\n",
    "\n",
    "show_smearing_mcmoz()\n",
    "\n",
    "\n",
    "@load_or_make([\"show_smearing_mcene\"])\n",
    "def show_smearing_mcene():\n",
    "    return show_smearing(\"mcene\")\n",
    "\n",
    "\n",
    "show_smearing_mcene()\n",
    "\n",
    "\n",
    "@load_or_make([\"show_smearing_mcmas\"])\n",
    "def show_smearing_mcmas():\n",
    "    return show_smearing(\"mcmas\", bins=np.linspace(-1, 6, 40))\n",
    "\n",
    "\n",
    "show_smearing_mcmas();"
   ]
  },
  {
   "cell_type": "code",
   "execution_count": null,
   "metadata": {
    "tags": [
     "hide-input"
    ]
   },
   "outputs": [],
   "source": []
  }
 ],
 "metadata": {
  "kernelspec": {
   "display_name": "Python (eehiq)",
   "language": "python",
   "name": "eehiq"
  },
  "language_info": {
   "codemirror_mode": {
    "name": "ipython",
    "version": 3
   },
   "file_extension": ".py",
   "mimetype": "text/x-python",
   "name": "python",
   "nbconvert_exporter": "python",
   "pygments_lexer": "ipython3",
   "version": "3.10.0"
  }
 },
 "nbformat": 4,
 "nbformat_minor": 4
}
