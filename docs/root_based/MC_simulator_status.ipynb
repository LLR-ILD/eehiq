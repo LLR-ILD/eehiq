{
 "cells": [
  {
   "cell_type": "markdown",
   "metadata": {
    "tags": [
     "hide-input"
    ]
   },
   "source": [
    "# MC: Understand the simulator status"
   ]
  },
  {
   "cell_type": "code",
   "execution_count": null,
   "metadata": {
    "tags": [
     "hide-input"
    ]
   },
   "outputs": [],
   "source": [
    "import awkward as ak\n",
    "import matplotlib.pyplot as plt\n",
    "import numpy as np\n",
    "import uproot\n",
    "\n",
    "from lcio_checks.mc.simulation import add_simulation_info, plot_simulation_info\n",
    "from lcio_checks.util import config, load_or_make\n",
    "\n",
    "f = uproot.open(f\"{config['data_dir']}/P2f_z_eehiq.root\")[\"MyLCTuple\"]\n",
    "mc = f.arrays(filter_name=\"mc*\", entry_stop=-1)"
   ]
  },
  {
   "cell_type": "code",
   "execution_count": null,
   "metadata": {
    "render": {
     "image": {
      "width": "49%"
     }
    },
    "tags": [
     "hide-input"
    ]
   },
   "outputs": [],
   "source": [
    "mc = add_simulation_info(mc)\n",
    "fig, df_sim_status = plot_simulation_info(mc)"
   ]
  },
  {
   "cell_type": "code",
   "execution_count": null,
   "metadata": {
    "render": {
     "image": {
      "width": "49%"
     }
    },
    "tags": [
     "hide-input"
    ]
   },
   "outputs": [],
   "source": [
    "@load_or_make([\"simulator_status_per_generator_status\"])\n",
    "def simulator_status_per_generator_status(mc):\n",
    "    bins = np.arange(256) - 0.5\n",
    "    bins = np.arange(32) - 0.5\n",
    "    fig, ax = plt.subplots(figsize=(8, 6))\n",
    "    for i, gen_status in enumerate(range(6)):\n",
    "        if i == 5:\n",
    "            x = (mc[mc.mcgst == 4].mcsst + 2**32) // 2**23 - 256\n",
    "            x = x % 32\n",
    "            label_start = \"gen_status=0,\\nbackscattering\"\n",
    "        else:\n",
    "            x = (mc[mc.mcgst == gen_status].mcsst + 2**32) // 2**23 - 256\n",
    "            x = x % 32\n",
    "            label_start = f\"{gen_status=}\"\n",
    "        ax.hist(\n",
    "            ak.flatten(x),\n",
    "            bins=bins,\n",
    "            label=label_start + f\": {ak.sum(ak.num(x)):> 9}\",\n",
    "            alpha=0.5,\n",
    "        )\n",
    "    ax.set_yscale(\"log\")\n",
    "    ax.set_xlabel(\"simulator status\")\n",
    "    ax.set_ylabel(\"# MCP in sample\")\n",
    "    ax.legend()\n",
    "    return (fig,)\n",
    "\n",
    "\n",
    "# Don't care about vertex not being parent's endpoint. Mainly photons, but can be Si Isotopes, pions, ...\n",
    "# Can only be one of isDecayedInTracker, isDecayedInCalorimeter, hasLeftDetector.\n",
    "# If isStopped, must be isDecayedInTracker or isDecayedInCalorimeter.\n",
    "simulator_status_per_generator_status(mc);"
   ]
  },
  {
   "cell_type": "markdown",
   "metadata": {
    "tags": [
     "hide-input"
    ]
   },
   "source": [
    "## What if `isCreatedInSimulation==True`?\n",
    "\n",
    "Reminder: This is equivalent to `mcgst==3`"
   ]
  },
  {
   "cell_type": "code",
   "execution_count": null,
   "metadata": {
    "tags": [
     "hide-input"
    ]
   },
   "outputs": [],
   "source": []
  }
 ],
 "metadata": {
  "kernelspec": {
   "display_name": "Python (eehiq)",
   "language": "python",
   "name": "eehiq"
  },
  "language_info": {
   "codemirror_mode": {
    "name": "ipython",
    "version": 3
   },
   "file_extension": ".py",
   "mimetype": "text/x-python",
   "name": "python",
   "nbconvert_exporter": "python",
   "pygments_lexer": "ipython3",
   "version": "3.10.0"
  }
 },
 "nbformat": 4,
 "nbformat_minor": 4
}
