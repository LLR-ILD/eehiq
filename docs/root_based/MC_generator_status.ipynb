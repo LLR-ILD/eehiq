{
 "cells": [
  {
   "cell_type": "markdown",
   "metadata": {
    "tags": [
     "hide-input"
    ]
   },
   "source": [
    "# MC: Understand the generator status\n",
    "\n",
    "The interplay of generator status and simulator status is discussed in the chaptor on the simulator status."
   ]
  },
  {
   "cell_type": "code",
   "execution_count": null,
   "metadata": {
    "tags": [
     "hide-input"
    ]
   },
   "outputs": [],
   "source": [
    "import awkward as ak\n",
    "import matplotlib.pyplot as plt\n",
    "import numpy as np\n",
    "import pandas as pd\n",
    "import uproot\n",
    "\n",
    "from lcio_checks.mc.simulation import add_simulation_info\n",
    "from lcio_checks.util import config, load_or_make\n",
    "\n",
    "f = uproot.open(f\"{config['data_dir']}/P2f_z_eehiq.root\")[\"MyLCTuple\"]\n",
    "mc = f.arrays(filter_name=\"mc*\", entry_stop=-1)\n",
    "mc = add_simulation_info(mc)"
   ]
  },
  {
   "cell_type": "code",
   "execution_count": null,
   "metadata": {
    "tags": [
     "hide-input"
    ]
   },
   "outputs": [],
   "source": [
    "def validate_my_explanation(mc):\n",
    "    mc4 = mc[mc.mcgst == 4]\n",
    "    assert all(ak.num(mc4.mcgst) == 2)\n",
    "    assert all(mc4.mcpdg[:, 0] == 11)\n",
    "    assert all(mc4.mcpdg[:, 1] == -11)\n",
    "    assert all(ak.flatten(mc4.mcmox) == 0.8750143)\n",
    "    assert all(ak.flatten(mc4.mcmoy) == 0)\n",
    "    assert all(np.abs(ak.flatten(mc4.mcmoz)) == 125)\n",
    "    assert ak.min(mc4.mcene) == ak.max(mc4.mcene)\n",
    "    assert abs(mc4.mcene[0][0] - 125) < 0.1  # E_e^2 = (M_e^2 + p_z_e^2)\n",
    "    assert all(ak.flatten(mc4.mcvtx) == 0)\n",
    "    assert all(ak.flatten(mc4.mcvty) == 0)\n",
    "    assert all(ak.flatten(mc4.mcvtx == mc4.mcepx))\n",
    "    assert all(ak.flatten(mc4.mcvty == mc4.mcepy))\n",
    "    assert all(ak.flatten(mc4.mcvtz == mc4.mcepz))\n",
    "\n",
    "\n",
    "validate_my_explanation(mc)"
   ]
  },
  {
   "cell_type": "code",
   "execution_count": null,
   "metadata": {
    "render": {
     "image": {
      "width": "100%"
     }
    },
    "tags": [
     "hide-input"
    ]
   },
   "outputs": [],
   "source": [
    "from lcio_checks.mc.generation import (\n",
    "    count_mc_per_generator_status,\n",
    "    vertex_in_z_per_generator_status,\n",
    ")\n",
    "\n",
    "fig1 = count_mc_per_generator_status(mc)\n",
    "fig2 = vertex_in_z_per_generator_status(mc)"
   ]
  },
  {
   "cell_type": "code",
   "execution_count": null,
   "metadata": {
    "tags": [
     "hide-input"
    ]
   },
   "outputs": [],
   "source": [
    "created_in_simu = np.unique(ak.flatten(mc[mc.isCreatedInSimulation].mcgst))\n",
    "assert len(created_in_simu) == 1\n",
    "assert created_in_simu[0] == 0  # Generator status 0"
   ]
  },
  {
   "cell_type": "markdown",
   "metadata": {
    "tags": [
     "hide-input"
    ]
   },
   "source": [
    "## Meaning of the generator status\n",
    "\n",
    "Adapted from [LCIO docs](https://ilcsoft.desy.de/LCIO/current/doc/doxygen_api/html/classEVENT_1_1MCParticle.html)\n",
    "\n",
    "- **0**: Created in simulation\n",
    "- **1**: Undecayed particle, stable in the generator\n",
    "- **2**: Particle decayed in the generator\n",
    "- **3**: Documentation line (used for overlay?)\n",
    "- **4**: Beam parameters"
   ]
  },
  {
   "cell_type": "markdown",
   "metadata": {
    "tags": [
     "hide-input"
    ]
   },
   "source": [
    "## Particle PDGs (per generator status)"
   ]
  },
  {
   "cell_type": "code",
   "execution_count": null,
   "metadata": {
    "tags": [
     "hide-input"
    ]
   },
   "outputs": [],
   "source": [
    "@load_or_make([\"pdg_counts.csv\"])\n",
    "def load_pdg_counts(mc):\n",
    "    pdg_counts = {}\n",
    "    for pdg in np.unique(ak.flatten(mc.mcpdg)):\n",
    "        tmp_mc = mc[mc.mcpdg == pdg]\n",
    "        pdg_counts[pdg] = {}\n",
    "        for gen_status in range(5):\n",
    "            pdg_counts[pdg][gen_status] = ak.sum(\n",
    "                ak.num(tmp_mc[tmp_mc.mcgst == gen_status].mcpdg)\n",
    "            )\n",
    "    df = pd.DataFrame(pdg_counts)\n",
    "    df.index.name = \"generator status\"\n",
    "    return (df,)\n",
    "\n",
    "\n",
    "(df,) = load_pdg_counts(mc, redo=True)\n",
    "df = df.transpose()"
   ]
  },
  {
   "cell_type": "markdown",
   "metadata": {
    "tags": [
     "hide-input"
    ]
   },
   "source": [
    "## Energy in the event per generator status"
   ]
  },
  {
   "cell_type": "code",
   "execution_count": null,
   "metadata": {
    "render": {
     "image": {
      "width": "100%"
     }
    },
    "tags": [
     "hide-input"
    ]
   },
   "outputs": [],
   "source": [
    "def _energy_per_generator_status(mc, per_event=True):\n",
    "    if per_event:\n",
    "        max_bin = ak.max(ak.sum(mc.mcene, axis=1))\n",
    "    else:\n",
    "        max_bin = ak.max(mc.mcene)\n",
    "    bins = np.arange(0, max_bin, 2)\n",
    "\n",
    "    fig, ax = plt.subplots(figsize=(7, 5))\n",
    "    for i, gen_status in enumerate(range(5)):\n",
    "        x = mc[mc.mcgst == gen_status].mcene\n",
    "        if per_event:\n",
    "            _x = ak.sum(x, axis=1)\n",
    "        else:\n",
    "            _x = ak.flatten(x)\n",
    "        ax.hist(\n",
    "            _x, bins=bins, label=f\"{gen_status=}: {ak.sum(ak.num(x)):> 9}\", alpha=0.5\n",
    "        )\n",
    "    if per_event:\n",
    "        ax.set_xlabel(\"energy per event [GeV]\")\n",
    "    else:\n",
    "        ax.set_xlabel(\"energy per MCP [GeV]\")\n",
    "    ax.set_xscale(\"log\")\n",
    "    ax.set_yscale(\"log\")\n",
    "    ax.axvline(250, color=\"black\", label=\"250 GeV\")\n",
    "    # for i in range(2, 8):\n",
    "    #     ax.axvline(i * 250, color=\"black\")\n",
    "    ax.legend(loc=\"upper left\")\n",
    "    return (fig,)\n",
    "\n",
    "\n",
    "@load_or_make([\"event_energy.png\"])\n",
    "def event_energy_per_generator_status(mc):\n",
    "    return _energy_per_generator_status(mc, per_event=True)\n",
    "\n",
    "\n",
    "event_energy_per_generator_status(mc, redo=True);"
   ]
  },
  {
   "cell_type": "code",
   "execution_count": null,
   "metadata": {
    "render": {
     "image": {
      "width": "100%"
     }
    },
    "tags": [
     "hide-input"
    ]
   },
   "outputs": [],
   "source": [
    "@load_or_make([\"mcp_energy.png\"])\n",
    "def mcp_energy_per_generator_status(mc):\n",
    "    return _energy_per_generator_status(mc, per_event=False)\n",
    "\n",
    "\n",
    "mcp_energy_per_generator_status(mc, redo=True);"
   ]
  },
  {
   "cell_type": "markdown",
   "metadata": {
    "tags": [
     "hide-input"
    ]
   },
   "source": [
    "## Appendix: Some more distributions per generator status"
   ]
  },
  {
   "cell_type": "code",
   "execution_count": null,
   "metadata": {
    "render": {
     "image": {
      "width": "100%"
     }
    },
    "tags": [
     "hide-input"
    ]
   },
   "outputs": [],
   "source": [
    "@load_or_make([\"mcepz_log.png\"])\n",
    "def end_point_z_per_generator_status(mc):\n",
    "    vtx_z = np.abs(mc.mcepz)\n",
    "    bins1 = np.arange(0, ak.max(vtx_z), 100)\n",
    "    fig, ax = plt.subplots(figsize=(7, 5))\n",
    "    for i, gen_status in enumerate(range(5)):\n",
    "        x = ak.flatten(vtx_z[mc.mcgst == gen_status])\n",
    "        ax.hist(x, bins=bins1, label=f\"{gen_status=}: {len(x):> 9}\", alpha=0.5)\n",
    "    ax.set_xlabel(\"z [mm]\")\n",
    "    ax.set_xscale(\"log\")\n",
    "    ax.set_yscale(\"log\")\n",
    "    ax.legend()\n",
    "    return (fig,)\n",
    "\n",
    "\n",
    "end_point_z_per_generator_status(mc);"
   ]
  },
  {
   "cell_type": "code",
   "execution_count": null,
   "metadata": {
    "render": {
     "image": {
      "width": "100%"
     }
    },
    "tags": [
     "hide-input"
    ]
   },
   "outputs": [],
   "source": [
    "def var_per_generator_status(mc, var=\"mcepz\"):\n",
    "    vals = getattr(mc, var)\n",
    "    bins1 = np.linspace(-1, 1, 100)\n",
    "    bins2 = np.arange(0, ak.max(np.abs(vals)), 100)\n",
    "    fig, [ax1, ax2] = plt.subplots(ncols=2, figsize=(10, 5))\n",
    "    for i, gen_status in enumerate(range(5)):\n",
    "        kw = dict(color=f\"C{i}\", alpha=0.5)\n",
    "        x = ak.flatten(vals[mc.mcgst == gen_status])\n",
    "        ax1.hist(\n",
    "            x, bins=bins1, label=f\"{gen_status}: {np.sum(np.abs(x) < 1):> 9}\", **kw\n",
    "        )\n",
    "        ax2.hist(np.abs(x), bins=bins2, label=f\"{gen_status}: {len(x):> 9}\", **kw)\n",
    "    ax1.set_title(var)\n",
    "    ax1.set_xlabel(\"energy [GeV]\")\n",
    "    # ax.set_xscale(\"log\")\n",
    "    # ax.set_yscale(\"log\")\n",
    "    ax1.legend(title=\"generatorStatus\")\n",
    "    ax2.legend(title=\"generatorStatus\")\n",
    "    ax2.set_xscale(\"log\")\n",
    "    ax2.set_yscale(\"log\")\n",
    "    return (fig,)\n",
    "\n",
    "\n",
    "def per_generator_status(var):\n",
    "    x = getattr(mc, var)\n",
    "    if all(x[0][0] == ak.flatten(x)):\n",
    "        print(f\"{var} only takes single value: {x[0][0]}\")\n",
    "        return\n",
    "\n",
    "    @load_or_make([f\"per_generator_status_{var}.png\"])\n",
    "    def var_plot(var, mc):\n",
    "        return var_per_generator_status(mc, var)\n",
    "\n",
    "    return var_plot(var, mc)\n",
    "\n",
    "\n",
    "# for var in mc.fields:\n",
    "#     per_generator_status(var);\n",
    "\n",
    "per_generator_status(\"mcmoz\")\n",
    "per_generator_status(\"mcepz\")\n",
    "per_generator_status(\"mcepy\")\n",
    "per_generator_status(\"mcmoy\")\n",
    "per_generator_status(\"mcvtx\")\n",
    "per_generator_status(\"mcvty\")\n",
    "per_generator_status(\"mcvtz\");"
   ]
  },
  {
   "cell_type": "code",
   "execution_count": null,
   "metadata": {
    "tags": [
     "hide-input"
    ]
   },
   "outputs": [],
   "source": []
  }
 ],
 "metadata": {
  "kernelspec": {
   "display_name": "Python (eehiq)",
   "language": "python",
   "name": "eehiq"
  },
  "language_info": {
   "codemirror_mode": {
    "name": "ipython",
    "version": 3
   },
   "file_extension": ".py",
   "mimetype": "text/x-python",
   "name": "python",
   "nbconvert_exporter": "python",
   "pygments_lexer": "ipython3",
   "version": "3.10.0"
  }
 },
 "nbformat": 4,
 "nbformat_minor": 4
}
