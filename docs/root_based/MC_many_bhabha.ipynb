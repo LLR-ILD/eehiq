{
 "cells": [
  {
   "cell_type": "markdown",
   "metadata": {
    "tags": [
     "hide-input"
    ]
   },
   "source": [
    "# Many Bhabha events in MCParticlesSkimmed"
   ]
  },
  {
   "cell_type": "code",
   "execution_count": null,
   "metadata": {
    "tags": [
     "hide-input"
    ]
   },
   "outputs": [],
   "source": [
    "import awkward as ak\n",
    "import matplotlib.pyplot as plt\n",
    "import numpy as np\n",
    "import uproot\n",
    "\n",
    "from lcio_checks.mc.simulation import add_simulation_info\n",
    "from lcio_checks.util import config, load_or_make\n",
    "\n",
    "f = uproot.open(f\"{config['data_dir']}/P2f_z_eehiq.root\")[\"MyLCTuple\"]\n",
    "mc = f.arrays(filter_name=\"mc*\", entry_stop=-1)\n",
    "mc = add_simulation_info(mc)"
   ]
  },
  {
   "cell_type": "code",
   "execution_count": null,
   "metadata": {
    "render": {
     "image": {
      "width": "49%"
     }
    },
    "tags": [
     "hide-input"
    ]
   },
   "outputs": [],
   "source": [
    "@load_or_make([\"energy_sum_per_generator_status\"])\n",
    "def energy_sum_per_generator_status():\n",
    "    fig, axs = plt.subplots(ncols=3, nrows=2, figsize=(10, 6))\n",
    "    for gst, ax in zip(range(5), axs.flatten()):\n",
    "        bins = ax.hist(\n",
    "            ak.sum(mc[(mc.mcgst == gst)].mcene, axis=1), bins=500, label=\"all\"\n",
    "        )[1]\n",
    "        ax.hist(\n",
    "            ak.sum(mc[(mc.mcgst == gst) & ~mc.isOverlay].mcene, axis=1),\n",
    "            bins=bins,\n",
    "            alpha=0.8,\n",
    "            label=\"not isOverlay\",\n",
    "        )\n",
    "        ax.legend()\n",
    "        ax.set_title(f\"Generator status {gst}\")\n",
    "        ax.set_xlabel(\"energy sum in event [GeV]\")\n",
    "        ax.set_yscale(\"log\")\n",
    "    fig.tight_layout()\n",
    "    return (fig,)\n",
    "\n",
    "\n",
    "energy_sum_per_generator_status();"
   ]
  },
  {
   "cell_type": "markdown",
   "metadata": {
    "tags": [
     "hide-input"
    ]
   },
   "source": [
    "## Energy in event after angular selection cut\n"
   ]
  },
  {
   "cell_type": "code",
   "execution_count": null,
   "metadata": {
    "render": {
     "image": {
      "width": "49%"
     }
    },
    "tags": [
     "hide-input"
    ]
   },
   "outputs": [],
   "source": [
    "@load_or_make([\"energy_sum_angular_acceptance_daughterless\"])\n",
    "def energy_sum_angular_acceptance_daughterless():\n",
    "    bins = np.arange(0, 1500, 10)\n",
    "    mcps = mc[mc.mcda0 == -1]\n",
    "    mcps = mcps[mcps.mcene > 0]\n",
    "    fig, ax = plt.subplots(figsize=(7, 5))\n",
    "    for cos_theta in [0.999999, 0.99999, 0.9999, 0.999, 0.99, 0.9]:\n",
    "        x = ak.sum(mcps[np.abs(mcps.mcmoz) / mcps.mcene < cos_theta].mcene, axis=1)\n",
    "        ax.hist(x, bins=bins, label=str(cos_theta), alpha=0.7)\n",
    "    ax.legend(title=\"|cos$\\\\theta$|$\\\\leq$\")\n",
    "    ax.set_yscale(\"log\")\n",
    "    ax.set_title(\"All daughter-less generated particles\")\n",
    "    ax.set_xlabel(\"energy in event [GeV]\")\n",
    "    return (fig,)\n",
    "\n",
    "\n",
    "energy_sum_angular_acceptance_daughterless()"
   ]
  },
  {
   "cell_type": "code",
   "execution_count": null,
   "metadata": {
    "render": {
     "image": {
      "width": "49%"
     }
    },
    "tags": [
     "hide-input"
    ]
   },
   "outputs": [],
   "source": [
    "@load_or_make([\"energy_sum_angular_acceptance_undecayed_in_detector\"])\n",
    "def energy_sum_angular_acceptance_undecayed_in_detector():\n",
    "    bins = np.arange(0, 1500, 10)\n",
    "    mcps = mc[mc.mcgst == 1]\n",
    "    mcps = mcps[mcps.mcene > 0]\n",
    "    fig, ax = plt.subplots(figsize=(7, 5))\n",
    "    for cos_theta in [0.999999, 0.99999, 0.9999, 0.999, 0.99, 0.9]:\n",
    "        x = ak.sum(mcps[np.abs(mcps.mcmoz) / mcps.mcene < cos_theta].mcene, axis=1)\n",
    "        ax.hist(x, bins=bins, label=str(cos_theta), alpha=0.7)\n",
    "    ax.legend(title=\"|cos$\\\\theta$|$\\\\leq$\")\n",
    "    ax.set_yscale(\"log\")\n",
    "    ax.set_title(\"Generator status 1 (undecayed in detector)\")\n",
    "    ax.set_xlabel(\"energy in event [GeV]\")\n",
    "    return (fig,)\n",
    "\n",
    "\n",
    "energy_sum_angular_acceptance_undecayed_in_detector();"
   ]
  },
  {
   "cell_type": "markdown",
   "metadata": {
    "tags": [
     "hide-input"
    ]
   },
   "source": [
    "## Generator status 1"
   ]
  },
  {
   "cell_type": "code",
   "execution_count": null,
   "metadata": {
    "render": {
     "image": {
      "width": "49%"
     }
    },
    "tags": [
     "hide-input"
    ]
   },
   "outputs": [],
   "source": [
    "@load_or_make([\"overlay_vs_not\"])\n",
    "def overlay_vs_not(mcps):\n",
    "    fig, axs = plt.subplots(figsize=(10, 5), ncols=2)\n",
    "\n",
    "    x = ak.num(mcps[~mcps.isOverlay].mcene)\n",
    "    axs[0].hist(x, bins=np.arange(ak.max(x) + 1) - 0.5)\n",
    "    axs[0].set_title(\"Generator status 1, #MCP not overlay\")\n",
    "\n",
    "    x = ak.num(mcps[mcps.isOverlay].mcene)\n",
    "    axs[1].hist(x, bins=np.arange(ak.max(x) + 1) - 0.5)\n",
    "    axs[1].set_title(\"Generator status 1, #overlay MCP\")\n",
    "    return (fig,)\n",
    "\n",
    "\n",
    "overlay_vs_not(mc[mc.mcgst == 1]);"
   ]
  },
  {
   "cell_type": "code",
   "execution_count": null,
   "metadata": {
    "tags": [
     "hide-input",
     "output_scroll"
    ]
   },
   "outputs": [],
   "source": [
    "is_vars = [is_var for is_var in mc.fields if is_var.startswith(\"is\")]\n",
    "df = ak.to_pandas(mc[mc.mcgst == 1][is_vars])\n",
    "df.describe()"
   ]
  },
  {
   "cell_type": "markdown",
   "metadata": {
    "tags": [
     "hide-input"
    ]
   },
   "source": [
    "### Simulation stati of the MCP in one event (generator status 1)"
   ]
  },
  {
   "cell_type": "code",
   "execution_count": null,
   "metadata": {
    "tags": [
     "hide-input"
    ]
   },
   "outputs": [],
   "source": [
    "df.loc[0]"
   ]
  },
  {
   "cell_type": "code",
   "execution_count": null,
   "metadata": {
    "tags": [
     "hide-input"
    ]
   },
   "outputs": [],
   "source": []
  }
 ],
 "metadata": {
  "kernelspec": {
   "display_name": "Python (eehiq)",
   "language": "python",
   "name": "eehiq"
  },
  "language_info": {
   "codemirror_mode": {
    "name": "ipython",
    "version": 3
   },
   "file_extension": ".py",
   "mimetype": "text/x-python",
   "name": "python",
   "nbconvert_exporter": "python",
   "pygments_lexer": "ipython3",
   "version": "3.10.0"
  }
 },
 "nbformat": 4,
 "nbformat_minor": 4
}
