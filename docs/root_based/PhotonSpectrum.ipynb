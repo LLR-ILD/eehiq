{
 "cells": [
  {
   "cell_type": "markdown",
   "metadata": {
    "tags": [
     "hide-input"
    ]
   },
   "source": [
    "# Isolated Photon spectrum"
   ]
  },
  {
   "cell_type": "markdown",
   "metadata": {
    "tags": [
     "hide-input"
    ]
   },
   "source": [
    "## Introduction\n",
    "\n",
    "The following images and slides are taken from the presentation that is referenced in the [overview](../index.md).\n",
    "There, the few events that pass the _Higgsstrahlung-like_ event preselection can have interesting event shape distributions.\n",
    "\n",
    "### Preselection\n",
    "\n",
    "There are about 40k events that pass the preselection, out of 16 million.\n",
    "We already saw in the [goodness of fit chapter](HiggsstrahlungRecoilGoodnessOfFit)\n",
    "that the _Higgstrahlung-like_ events are in a tail of the `2f_Z_eehiq` distribution.\n",
    "\n",
    ":::{warning}\n",
    "These 40k events must not be confused with the 40k events in the MyLCTuple branch of the rootfile \n",
    "built from a single slcio-file.\n",
    "With the preselection efficiency shown here, about 100 events per file would be expected to pass.\n",
    "\n",
    "This number is reduced (much) further with the tighter final selection step in the Higgs branching ratios analysis.\n",
    ":::\n",
    "\n",
    "| | |\n",
    "|:-:|:-:|\n",
    "| ![isolated_photons_preselection_efficiency](../assets/isolated_photons_preselection_efficiency.png) | ![isolated_photons_count](../assets/isolated_photons_count.png) | "
   ]
  },
  {
   "cell_type": "markdown",
   "metadata": {
    "tags": [
     "hide-input"
    ]
   },
   "source": [
    "### Isolated Photons\n",
    "\n",
    "Isolated photons are defined by the [IsolatedPhotonTagging processor](https://github.com/iLCSoft/MarlinReco/tree/1538c295db82c620f6d62cd1db7f449aa31e5109/Analysis/IsolatedLeptonTagging).\n",
    "We would expect that there can be high-energy photons in the \n",
    "$e^+e^- \\to e^+e^-$ events with lepton-pair kinematics similar to Higgsstrahlung.\n",
    "Indeed, in more than half the selected events we find an isolated photon in the detector volume\n",
    "that is used in the study."
   ]
  },
  {
   "cell_type": "markdown",
   "metadata": {
    "tags": [
     "hide-input"
    ]
   },
   "source": [
    "### \"Higgs kinematics\"\n",
    "\n",
    "In a Higgsstrahlung event with leptonic decay of the recoiling Z boson, \n",
    "we want to identify the lepton pair from the Z decay.\n",
    "If we correctly identify those decay remnants and remove them from the event,\n",
    "we are left with only the decay products from the Higgs decay (plus contributions from overlay).\n",
    "Therefore the mass and energy of the sum of all these remaining PFOs will be called _Higgs mass_ and _Higgs energy_.\n",
    "\n",
    "These onedimensional distributions show an interesting shape:\n",
    "\n",
    "| | |\n",
    "|:-:|:-:|\n",
    "| ![higgs_mass_all](../assets/isolated_photons_higgs_mass_all.png) | ![higgs_energy_all](../assets/isolated_photons_higgs_energy_all.png)  |"
   ]
  },
  {
   "cell_type": "markdown",
   "metadata": {
    "tags": [
     "hide-input"
    ]
   },
   "source": [
    "As a first estimate, we could assume that both distributions are Dirac-$\\delta$-distributions at 0 GeV:\n",
    "There is no Higgs boson in the `2f_Z_eehiq` events.\n",
    "\n",
    "The convolution with beam overlay will smear this to an exponentially decaying distribution.\n",
    "\n",
    "On top of this, we observe a peak at around 140 GeV in the mass spectrum and multiple peaks in the energy spectrum.\n",
    "\n",
    "These additional features can be identified as the effect of high-energy photons in the detector.\n",
    "_You can enlarge the following slides by opening them in a new tab._\n",
    "\n",
    "|Mass in the event after removing the $e^+e^-$ pair  | Energy in the event after removing the $e^+e^-$ pair  | \n",
    "|:-:|:-:|\n",
    "| ![higgs_mass](../assets/isolated_photons_higgs_mass.png) | ![higgs_energy](../assets/isolated_photons_higgs_energy.png)  |"
   ]
  },
  {
   "cell_type": "markdown",
   "metadata": {
    "tags": [
     "hide-input"
    ]
   },
   "source": [
    "## \"Higgs kinematics\" without preselection"
   ]
  },
  {
   "cell_type": "markdown",
   "metadata": {
    "tags": [
     "hide-input"
    ]
   },
   "source": [
    "### On PandoraPFOs level"
   ]
  },
  {
   "cell_type": "code",
   "execution_count": null,
   "metadata": {
    "tags": [
     "hide-input"
    ]
   },
   "outputs": [],
   "source": [
    "import awkward as ak\n",
    "import matplotlib.pyplot as plt\n",
    "import numpy as np\n",
    "import uproot\n",
    "\n",
    "from lcio_checks.rp.split_off_z import HiggsLike\n",
    "from lcio_checks.util import config\n",
    "\n",
    "\n",
    "def plot_masses(m_pair, m_recoil, bins=20, bin_range=[[0, 300], [0, 300]], ax=None):\n",
    "    if ax is None:\n",
    "        fig, ax = plt.subplots(figsize=(5, 5))\n",
    "    ax.hist2d(m_pair, m_recoil, range=bin_range, bins=bins)\n",
    "    ax.set_xlabel(\"pair mass [GeV]\")\n",
    "    ax.set_ylabel(\"recoil mass [GeV]\")\n",
    "    return ax\n",
    "\n",
    "\n",
    "def chi2_fct(z, h):\n",
    "    return (z - 91) ** 2 / 10**2 + (h - 125) ** 2 / (\n",
    "        5**2 * (h < 125) + 20**2 * (h > 125)\n",
    "    )\n",
    "\n",
    "\n",
    "f = uproot.open(f\"{config['data_dir']}/P2f_z_eehiq.root\")[\"MyLCTuple\"]\n",
    "rc = f.arrays(filter_name=\"rc*\")\n",
    "rc = rc[rc.rccid == 101]\n",
    "\n",
    "higgs_like = HiggsLike(rc)\n",
    "has_pair = higgs_like.has_pair\n",
    "higgs_like.apply_chi2(chi2_fct)"
   ]
  },
  {
   "cell_type": "code",
   "execution_count": null,
   "metadata": {
    "tags": [
     "hide-input"
    ]
   },
   "outputs": [],
   "source": [
    "bins = np.arange(-0.5, 11)\n",
    "e_gamma = rc[rc.rctyp == 22].rcene\n",
    "for min_e in [0, 1, 2, 5, 10, 25, 50, 100]:\n",
    "    plt.hist(\n",
    "        ak.num(e_gamma[e_gamma > min_e], axis=1),\n",
    "        bins,\n",
    "        cumulative=-1,\n",
    "        density=True,\n",
    "        label=min_e,\n",
    "    )\n",
    "plt.legend(title=r\"$E_\\gamma >$\")\n",
    "plt.xlabel(r\"#$\\gamma \\geq$\");"
   ]
  },
  {
   "cell_type": "markdown",
   "metadata": {
    "tags": [
     "hide-input"
    ]
   },
   "source": [
    "For some simple plotting in this motebook, let's define as an _Isolated Photon_ any PFO that is identified as a photon and that has an energy above 25 GeV."
   ]
  },
  {
   "cell_type": "code",
   "execution_count": null,
   "metadata": {
    "tags": [
     "hide-input"
    ]
   },
   "outputs": [],
   "source": [
    "def m_vis(rps):\n",
    "    e = ak.sum(rps.rcene, axis=1)\n",
    "    px = ak.sum(rps.rcmox, axis=1)\n",
    "    py = ak.sum(rps.rcmoy, axis=1)\n",
    "    pz = ak.sum(rps.rcmoz, axis=1)\n",
    "    return np.sqrt(np.abs(e**2 - px**2 - py**2 - pz**2))\n",
    "\n",
    "\n",
    "def mass_plot(rps, gamma_rps=None, sub=\"_H\"):\n",
    "    if gamma_rps is None:\n",
    "        gamma_rps = rps\n",
    "    e_gamma = gamma_rps.rcene[gamma_rps.rctyp == 22]\n",
    "    n_gamma = ak.num(e_gamma[e_gamma > 25])\n",
    "    n_gamma = ak.where(n_gamma < 3, n_gamma, 3)\n",
    "\n",
    "    fig, axs = plt.subplots(ncols=2, figsize=(10, 5))\n",
    "    for i in range(3):\n",
    "        mask = n_gamma >= i\n",
    "        if sum(mask) == 0:\n",
    "            continue\n",
    "        axs[0].hist(m_vis(rps[mask]), bins=30, label=f\"# Isolated photons >= {i}\")\n",
    "        axs[1].hist(m_vis(rps[mask]), bins=30)\n",
    "    axs[0].legend()\n",
    "    axs[1].set_yscale(\"log\")\n",
    "    axs[0].set_xlabel(f\"$M{sub}$\")\n",
    "    axs[1].set_xlabel(f\"$M{sub}$\")\n",
    "    return axs\n",
    "\n",
    "\n",
    "def energy_plot(rps, gamma_rps=None, sub=\"_H\"):\n",
    "    if gamma_rps is None:\n",
    "        gamma_rps = rps\n",
    "    e_gamma = gamma_rps.rcene[gamma_rps.rctyp == 22]\n",
    "    n_gamma = ak.num(e_gamma[e_gamma > 25])\n",
    "    n_gamma = ak.where(n_gamma < 3, n_gamma, 3)\n",
    "\n",
    "    fig, axs = plt.subplots(ncols=2, figsize=(10, 5))\n",
    "    for i in range(3):\n",
    "        mask = n_gamma >= i\n",
    "        if sum(mask) == 0:\n",
    "            continue\n",
    "        axs[0].hist(m_vis(rps[mask]), bins=30, label=f\"# Isolated photons >= {i}\")\n",
    "        axs[1].hist(m_vis(rps[mask]), bins=30)\n",
    "    axs[0].legend()\n",
    "    axs[1].set_yscale(\"log\")\n",
    "    axs[0].set_xlabel(f\"$E{sub}$\")\n",
    "    axs[1].set_xlabel(f\"$E{sub}$\")\n",
    "    return axs"
   ]
  },
  {
   "cell_type": "code",
   "execution_count": null,
   "metadata": {
    "tags": [
     "hide-input"
    ]
   },
   "outputs": [],
   "source": [
    "bins = np.arange(0, 321, 3)\n",
    "fig, axs = plt.subplots(ncols=2, figsize=(10, 4))\n",
    "is_e_gamma = (rc.rctyp == 11) | (rc.rctyp == -11) | (rc.rctyp == 22)\n",
    "axs[0].hist(ak.sum(rc.rcene, axis=1), bins=bins, alpha=0.8, label=\"all PFOs\")\n",
    "axs[0].hist(\n",
    "    ak.sum(rc.rcene[is_e_gamma], axis=1), bins=bins, alpha=0.8, label=r\"$e^\\pm, \\gamma$\"\n",
    ")\n",
    "axs[1].hist(\n",
    "    ak.sum(rc.rcene[~is_e_gamma], axis=1),\n",
    "    bins=bins,\n",
    "    alpha=0.8,\n",
    "    label=r\"everything but $e^\\pm, \\gamma$\",\n",
    ")\n",
    "for ax in axs:\n",
    "    ax.legend()\n",
    "    ax.set_xlabel(\"E [GeV]\")\n",
    "fig.suptitle(r\"$e^\\pm, \\gamma$: energy per event\");"
   ]
  },
  {
   "cell_type": "code",
   "execution_count": null,
   "metadata": {
    "tags": [
     "hide-input"
    ]
   },
   "outputs": [],
   "source": [
    "rps = rc[higgs_like.has_pair]\n",
    "rps = rps[~rps.is_recoil]\n",
    "mass_plot(rps)\n",
    "energy_plot(rps);"
   ]
  },
  {
   "cell_type": "code",
   "execution_count": null,
   "metadata": {
    "tags": [
     "hide-input"
    ]
   },
   "outputs": [],
   "source": [
    "rps = rc[higgs_like.has_pair]\n",
    "\n",
    "mass_plot(rps[rps.is_recoil], rps, sub=\"_Z\");"
   ]
  },
  {
   "cell_type": "markdown",
   "metadata": {
    "tags": [
     "hide-input"
    ]
   },
   "source": [
    "## Choose only event with kinematics close to Higgsstrahlung\n",
    "\n",
    "$\\chi^2$ takes into account the mass of the recoiling electron pair and the recoil mass."
   ]
  },
  {
   "cell_type": "code",
   "execution_count": null,
   "metadata": {
    "tags": [
     "hide-input"
    ]
   },
   "outputs": [],
   "source": [
    "max_chi2 = 1\n",
    "rps = rc[ak.fill_none(ak.min(higgs_like.chi2, axis=1) < max_chi2, False)]\n",
    "\n",
    "mass_plot(rps[rps.is_recoil], rps, sub=\"_Z\")\n",
    "plt.suptitle(rf\"$\\chi^2$ < {max_chi2}\");"
   ]
  },
  {
   "cell_type": "code",
   "execution_count": null,
   "metadata": {
    "tags": [
     "hide-input"
    ]
   },
   "outputs": [],
   "source": [
    "max_chi2 = 1\n",
    "rps = rc[ak.fill_none(ak.min(higgs_like.chi2, axis=1) < max_chi2, False)]\n",
    "rps = rps[~rps.is_recoil]\n",
    "mass_plot(rps)\n",
    "plt.suptitle(rf\"$\\chi^2$ < {max_chi2}\");"
   ]
  },
  {
   "cell_type": "markdown",
   "metadata": {
    "tags": [
     "hide-input"
    ]
   },
   "source": [
    "![higgs_mass](../assets/isolated_photons_higgs_mass.png)"
   ]
  },
  {
   "cell_type": "markdown",
   "metadata": {
    "tags": [
     "hide-input"
    ]
   },
   "source": [
    "Clearly, the two definitions of _Isolated Photon_ are not very compatible.\n",
    "This is to be expected: The definition in this notebook is very simplistic.\n",
    "Both spectra find the peak around 140 GeV. \n",
    "The peak is more important in the notebook.\n",
    "By loosening the $\\chi^2$ selection (see appendix), more low-recoil-mass events pass the selection\n",
    "and we approach the situation shown in the presentation.\n",
    "\n",
    "\n",
    "## TODO\n",
    "\n",
    "- [ ] FSR photon correction?\n",
    "- [ ] The spectrum in the presentation peaks at 0 GeV. Here, the low-mass peak is around 20 GeV. Might be the FSR though.\n",
    "\n",
    "## Appendix: Playing with the selection tightness"
   ]
  },
  {
   "cell_type": "code",
   "execution_count": null,
   "metadata": {
    "tags": [
     "hide-input"
    ]
   },
   "outputs": [],
   "source": [
    "for max_chi2 in [1, 2, 4, 8, 100]:\n",
    "    rps = rc[ak.fill_none(ak.min(higgs_like.chi2, axis=1) < max_chi2, False)]\n",
    "    rps = rps[~rps.is_recoil]\n",
    "    mass_plot(rps)\n",
    "    plt.suptitle(rf\"$\\chi^2$ < {max_chi2}\");"
   ]
  },
  {
   "cell_type": "code",
   "execution_count": null,
   "metadata": {
    "tags": [
     "hide-input"
    ]
   },
   "outputs": [],
   "source": []
  }
 ],
 "metadata": {
  "kernelspec": {
   "display_name": "Python (eehiq)",
   "language": "python",
   "name": "eehiq"
  },
  "language_info": {
   "codemirror_mode": {
    "name": "ipython",
    "version": 3
   },
   "file_extension": ".py",
   "mimetype": "text/x-python",
   "name": "python",
   "nbconvert_exporter": "python",
   "pygments_lexer": "ipython3",
   "version": "3.10.0"
  }
 },
 "nbformat": 4,
 "nbformat_minor": 4
}
