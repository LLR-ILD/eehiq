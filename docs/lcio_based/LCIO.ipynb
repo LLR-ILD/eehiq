{
 "cells": [
  {
   "cell_type": "markdown",
   "metadata": {
    "tags": [
     "hide-input"
    ]
   },
   "source": [
    "# A direct look into the `.slcio` file\n",
    "\n",
    "\n",
    "## Analysis of the $e^+e^- \\to e^+e^-$ .slcio file\n",
    "\n",
    "\n",
    ":::{note}\n",
    "We are not aware of an array-based way for extracting the particles from `.slcio` files.\n",
    "Thus, we will restrict ourselves to low events numbers, or overview level variables.\n",
    "More quantitative studies will follow in the `ROOT BASED` part.\n",
    ":::\n",
    "\n",
    "Let's check that the `.slcio` file actually exists:"
   ]
  },
  {
   "cell_type": "code",
   "execution_count": null,
   "metadata": {
    "tags": [
     "hide-input"
    ]
   },
   "outputs": [],
   "source": [
    "! echo  /data_ilc/flc/kunath/local_only/eehiq\n",
    "!ls -lh /data_ilc/flc/kunath/local_only/eehiq"
   ]
  },
  {
   "cell_type": "code",
   "execution_count": null,
   "metadata": {
    "tags": [
     "hide-input"
    ]
   },
   "outputs": [],
   "source": [
    "from pyLCIO.io.LcioReader import LcioReader\n",
    "\n",
    "folder = \"/data_ilc/flc/kunath/local_only/eehiq\"\n",
    "bhabha_data = (\n",
    "    folder\n",
    "    + \"/rv02-02.sv02-02.mILD_l5_o1_v02.E250-SetA.I500002.P2f_z_eehiq.eL.pR.n000.d_dstm_15783_0.slcio\"\n",
    ")\n",
    "reader = LcioReader(bhabha_data)"
   ]
  },
  {
   "cell_type": "markdown",
   "metadata": {
    "tags": [
     "hide-input"
    ]
   },
   "source": [
    "### Available collections"
   ]
  },
  {
   "cell_type": "code",
   "execution_count": null,
   "metadata": {
    "tags": [
     "hide-input"
    ]
   },
   "outputs": [],
   "source": [
    "for event in reader:\n",
    "    for collectionName in event.getCollectionNames():\n",
    "        print(collectionName)\n",
    "    break"
   ]
  },
  {
   "cell_type": "markdown",
   "metadata": {
    "tags": [
     "hide-input"
    ]
   },
   "source": [
    "### Typical number of PFOs per event"
   ]
  },
  {
   "cell_type": "code",
   "execution_count": null,
   "metadata": {
    "tags": [
     "hide-input"
    ]
   },
   "outputs": [],
   "source": [
    "import matplotlib.pyplot as plt\n",
    "import numpy as np\n",
    "\n",
    "pfo_counts = []\n",
    "for i, event in zip(range(500), reader):\n",
    "    collection = event.getCollection(\"PandoraPFOs\")\n",
    "    pfo_counts.append(len(collection))\n",
    "plt.hist(pfo_counts, bins=np.arange(-0.5, max(pfo_counts) + 1, 1))\n",
    "plt.xlabel(\"# PFOs in $e^+e^- \\\\to e^+e^-$ events\");"
   ]
  }
 ],
 "metadata": {
  "celltoolbar": "Tags",
  "kernelspec": {
   "display_name": "pyLCIO",
   "language": "python",
   "name": "pylcio"
  },
  "language_info": {
   "codemirror_mode": {
    "name": "ipython",
    "version": 3
   },
   "file_extension": ".py",
   "mimetype": "text/x-python",
   "name": "python",
   "nbconvert_exporter": "python",
   "pygments_lexer": "ipython3",
   "version": "3.10.2"
  }
 },
 "nbformat": 4,
 "nbformat_minor": 4
}
